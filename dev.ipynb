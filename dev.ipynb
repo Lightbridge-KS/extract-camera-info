{
 "cells": [
  {
   "cell_type": "markdown",
   "metadata": {},
   "source": [
    "# Extract Camera Information"
   ]
  },
  {
   "cell_type": "code",
   "execution_count": 1,
   "metadata": {},
   "outputs": [],
   "source": [
    "from PIL import Image\n",
    "from PIL.ExifTags import TAGS"
   ]
  },
  {
   "cell_type": "markdown",
   "metadata": {},
   "source": [
    "### Extract Cam Info"
   ]
  },
  {
   "cell_type": "code",
   "execution_count": 3,
   "metadata": {},
   "outputs": [
    {
     "data": {
      "text/plain": [
       "dict_items([(296, 2), (34665, 198), (271, 'Panasonic'), (272, 'DMC-GX8'), (305, 'Ver.2.1  '), (274, 1), (306, '2024:02:03 06:05:12'), (531, 1), (282, 72.0), (283, 72.0), (36864, b'0230'), (37121, b'\\x01\\x02\\x03\\x00'), (37122, 2.0), (36867, '2024:02:03 06:05:12'), (36868, '2024:02:03 06:05:12'), (37380, 0.0), (37381, 3.0), (37383, 5), (37384, 0), (37385, 16), (37386, 35.0), (40961, 1), (40962, 1920), (41988, 0.0), (41989, 70), (41990, 0), (36880, '+07:00'), (36881, '+07:00'), (36882, '+07:00'), (37520, '537'), (37521, '537'), (37522, '537'), (40963, 1440), (41495, 2), (41728, b'\\x03'), (33434, 0.004), (33437, 2.8), (41729, b'\\x01'), (34850, 3), (41985, 0), (34855, 800), (41986, 0), (40960, b'0100'), (34864, 1), (41987, 0), (41991, 2), (41992, 0), (41993, 0), (41994, 0)])"
      ]
     },
     "execution_count": 3,
     "metadata": {},
     "output_type": "execute_result"
    }
   ],
   "source": [
    "# Open the image file\n",
    "img = Image.open(\"img/IMG_2838.jpeg\")\n",
    "    \n",
    "# Extract EXIF data\n",
    "exif_data = img._getexif()\n",
    "\n",
    "exif_data.items()"
   ]
  },
  {
   "cell_type": "code",
   "execution_count": 25,
   "metadata": {},
   "outputs": [
    {
     "data": {
      "text/plain": [
       "{'Make': 'Panasonic',\n",
       " 'Model': 'DMC-GX8',\n",
       " 'FocalLength': 35.0,\n",
       " 'ExposureTime': 0.004,\n",
       " 'FNumber': 2.8,\n",
       " 'ISOSpeedRatings': 800}"
      ]
     },
     "execution_count": 25,
     "metadata": {},
     "output_type": "execute_result"
    }
   ],
   "source": [
    "camera_info = {}\n",
    "\n",
    "for tag_id, value in exif_data.items():\n",
    "    tag = TAGS.get(tag_id)\n",
    "    if tag in [\"Make\", \"Model\", \"FocalLength\", \"FNumber\", \"ExposureTime\", \"ISOSpeedRatings\"]:\n",
    "        camera_info[tag] = value\n",
    "        \n",
    "camera_info"
   ]
  },
  {
   "cell_type": "code",
   "execution_count": 33,
   "metadata": {},
   "outputs": [
    {
     "data": {
      "text/plain": [
       "250"
      ]
     },
     "execution_count": 33,
     "metadata": {},
     "output_type": "execute_result"
    }
   ],
   "source": [
    "n = camera_info[\"ExposureTime\"]\n",
    "\n",
    "int(1/n)"
   ]
  },
  {
   "cell_type": "markdown",
   "metadata": {},
   "source": [
    "### Extract Name"
   ]
  },
  {
   "cell_type": "code",
   "execution_count": 38,
   "metadata": {},
   "outputs": [
    {
     "data": {
      "text/plain": [
       "'IMG_2838.jpeg'"
      ]
     },
     "execution_count": 38,
     "metadata": {},
     "output_type": "execute_result"
    }
   ],
   "source": [
    "import os\n",
    "\n",
    "path_1 = \"img/IMG_2838.jpeg\"\n",
    "\n",
    "os.path.exists(path_1)\n",
    "os.path.basename(path_1)"
   ]
  },
  {
   "cell_type": "markdown",
   "metadata": {},
   "source": [
    "## Loop multiple Images"
   ]
  },
  {
   "cell_type": "code",
   "execution_count": 39,
   "metadata": {},
   "outputs": [],
   "source": [
    "import cam_ext"
   ]
  },
  {
   "cell_type": "code",
   "execution_count": 40,
   "metadata": {},
   "outputs": [
    {
     "data": {
      "text/plain": [
       "'-- Camera Info: IMG_2838.jpeg --\\nPanasonic DMC-GX8\\n35 mm, 1/250 s, f 2.8, ISO 800\\n--'"
      ]
     },
     "execution_count": 40,
     "metadata": {},
     "output_type": "execute_result"
    }
   ],
   "source": [
    "cam_ext.extract_camera_info(\"img/IMG_2838.jpeg\")"
   ]
  }
 ],
 "metadata": {
  "kernelspec": {
   "display_name": "Python 3",
   "language": "python",
   "name": "python3"
  },
  "language_info": {
   "codemirror_mode": {
    "name": "ipython",
    "version": 3
   },
   "file_extension": ".py",
   "mimetype": "text/x-python",
   "name": "python",
   "nbconvert_exporter": "python",
   "pygments_lexer": "ipython3",
   "version": "3.10.10"
  }
 },
 "nbformat": 4,
 "nbformat_minor": 2
}
